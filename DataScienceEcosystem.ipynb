{
 "cells": [
  {
   "cell_type": "markdown",
   "id": "0e51455b-01c1-4357-a967-ae3e019099d5",
   "metadata": {},
   "source": [
    "# Data Science Tools and Ecosystem"
   ]
  },
  {
   "cell_type": "markdown",
   "id": "e8a77dd6-f1ba-42e8-8bec-5c3936da56a7",
   "metadata": {},
   "source": [
    "In this notebook, Data Science Tools and Ecosystem are summarized"
   ]
  },
  {
   "cell_type": "markdown",
   "id": "ab60a418-de09-4d0d-9b0e-6c5d9dcc4a84",
   "metadata": {},
   "source": [
    "**Objectives:**\n",
    "- List popular languages for Data Science\n",
    "- List commonly used libraries used by Data Scientists\n",
    "- List of Data Science Tools"
   ]
  },
  {
   "cell_type": "markdown",
   "id": "f84b0cf0-28c9-499d-a387-d3c52b944f33",
   "metadata": {},
   "source": [
    "Some of the popular languages that Data Scientists use are :\n",
    "1. Python\n",
    "2. Java\n",
    "3. Julia\n",
    "4. R"
   ]
  },
  {
   "cell_type": "markdown",
   "id": "b22ce668-06d4-4abd-ac3a-6d353a625d0a",
   "metadata": {},
   "source": [
    "Some of the commonly used libraries used by Data Scientists include:\n",
    "1. Pandas\n",
    "2. NumPy\n",
    "3. SciPy\n",
    "4. TensorFlow"
   ]
  },
  {
   "cell_type": "markdown",
   "id": "ab9e9ff8-f7ee-4284-9588-7d8b0c84afc7",
   "metadata": {},
   "source": [
    "| Data Science Tools |\n",
    "| ------------------ |\n",
    "| Apache Spark |\n",
    "| Jupyter Notebook |\n",
    "| Apache Hadoop |"
   ]
  },
  {
   "cell_type": "markdown",
   "id": "2417890b-9d9c-4f4f-a4f8-d771163d5135",
   "metadata": {},
   "source": [
    "### Below are a few examples of evaluating arithmetic expressions in Python"
   ]
  },
  {
   "cell_type": "markdown",
   "id": "623cfd42-34b3-469d-acf3-0446dd88af88",
   "metadata": {},
   "source": [
    "This is a simple arithmetic expression to mutiply then add integers"
   ]
  },
  {
   "cell_type": "code",
   "execution_count": 3,
   "id": "effa6763-78d5-4601-967b-1064c6403d70",
   "metadata": {},
   "outputs": [
    {
     "data": {
      "text/plain": [
       "17"
      ]
     },
     "execution_count": 3,
     "metadata": {},
     "output_type": "execute_result"
    }
   ],
   "source": [
    "(3*4)+5"
   ]
  },
  {
   "cell_type": "code",
   "execution_count": 4,
   "id": "095fde9f-cfbb-4bd1-88a2-6247819a842c",
   "metadata": {},
   "outputs": [
    {
     "data": {
      "text/plain": [
       "33.333333333333336"
      ]
     },
     "execution_count": 4,
     "metadata": {},
     "output_type": "execute_result"
    }
   ],
   "source": [
    "200/6"
   ]
  },
  {
   "cell_type": "markdown",
   "id": "88fd550f-e1d3-4a6e-9c2f-8aaff680801d",
   "metadata": {},
   "source": [
    "## Author\n",
    "Giovanni Winata"
   ]
  },
  {
   "cell_type": "code",
   "execution_count": null,
   "id": "8d926a02-ac82-4534-857b-bc3eb729ea05",
   "metadata": {},
   "outputs": [],
   "source": []
  }
 ],
 "metadata": {
  "kernelspec": {
   "display_name": "Python 3 (ipykernel)",
   "language": "python",
   "name": "python3"
  },
  "language_info": {
   "codemirror_mode": {
    "name": "ipython",
    "version": 3
   },
   "file_extension": ".py",
   "mimetype": "text/x-python",
   "name": "python",
   "nbconvert_exporter": "python",
   "pygments_lexer": "ipython3",
   "version": "3.11.7"
  }
 },
 "nbformat": 4,
 "nbformat_minor": 5
}
